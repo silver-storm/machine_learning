{
  "nbformat": 4,
  "nbformat_minor": 0,
  "metadata": {
    "kernelspec": {
      "display_name": "Python 3",
      "language": "python",
      "name": "python3"
    },
    "language_info": {
      "codemirror_mode": {
        "name": "ipython",
        "version": 3
      },
      "file_extension": ".py",
      "mimetype": "text/x-python",
      "name": "python",
      "nbconvert_exporter": "python",
      "pygments_lexer": "ipython3",
      "version": "3.6.9"
    },
    "colab": {
      "name": "EE5180_final_project.ipynb",
      "provenance": [],
      "collapsed_sections": []
    }
  },
  "cells": [
    {
      "cell_type": "code",
      "metadata": {
        "id": "9FHbvOYLoAhu",
        "colab_type": "code",
        "colab": {}
      },
      "source": [
        "# Importing libraries\n",
        "import numpy as np\n",
        "import pandas as pd"
      ],
      "execution_count": 309,
      "outputs": []
    },
    {
      "cell_type": "code",
      "metadata": {
        "id": "JJW_OYkLoowh",
        "colab_type": "code",
        "colab": {}
      },
      "source": [
        "# Getting the data from my github\n",
        "\n",
        "# Imports\n",
        "from io import BytesIO\n",
        "from urllib.request import urlopen\n",
        "from zipfile import ZipFile\n",
        "\n",
        "# Reading in the url\n",
        "zipurl = 'https://github.com/silver-storm/machine_learning_codes/blob/master/Datasets/house-prices-advanced-regression-techniques.zip?raw=true'\n",
        "with urlopen(zipurl) as ret:\n",
        "    with ZipFile(BytesIO(ret.read())) as zipfile:\n",
        "        \"\"\" Extracting and storing the data \"\"\"\n",
        "        zipfile.extractall('tmp/')"
      ],
      "execution_count": 310,
      "outputs": []
    },
    {
      "cell_type": "code",
      "metadata": {
        "id": "wZpjWJQNrCdG",
        "colab_type": "code",
        "colab": {
          "base_uri": "https://localhost:8080/",
          "height": 35
        },
        "outputId": "60988ade-ee39-4003-f15a-891724d14be2"
      },
      "source": [
        "import os\n",
        "os.listdir('tmp/')"
      ],
      "execution_count": 311,
      "outputs": [
        {
          "output_type": "execute_result",
          "data": {
            "text/plain": [
              "['test.csv', 'sample_submission.csv', 'data_description.txt', 'train.csv']"
            ]
          },
          "metadata": {
            "tags": []
          },
          "execution_count": 311
        }
      ]
    },
    {
      "cell_type": "code",
      "metadata": {
        "id": "qmyPuc3tw6rD",
        "colab_type": "code",
        "colab": {
          "base_uri": "https://localhost:8080/",
          "height": 251
        },
        "outputId": "77207e84-034f-42a9-86bf-ed6d88165d85"
      },
      "source": [
        "# Reading in the Dataset\n",
        "\n",
        "dataset = pd.read_csv('tmp/train.csv')\n",
        "dataset.head()"
      ],
      "execution_count": 312,
      "outputs": [
        {
          "output_type": "execute_result",
          "data": {
            "text/html": [
              "<div>\n",
              "<style scoped>\n",
              "    .dataframe tbody tr th:only-of-type {\n",
              "        vertical-align: middle;\n",
              "    }\n",
              "\n",
              "    .dataframe tbody tr th {\n",
              "        vertical-align: top;\n",
              "    }\n",
              "\n",
              "    .dataframe thead th {\n",
              "        text-align: right;\n",
              "    }\n",
              "</style>\n",
              "<table border=\"1\" class=\"dataframe\">\n",
              "  <thead>\n",
              "    <tr style=\"text-align: right;\">\n",
              "      <th></th>\n",
              "      <th>Id</th>\n",
              "      <th>MSSubClass</th>\n",
              "      <th>MSZoning</th>\n",
              "      <th>LotFrontage</th>\n",
              "      <th>LotArea</th>\n",
              "      <th>Street</th>\n",
              "      <th>Alley</th>\n",
              "      <th>LotShape</th>\n",
              "      <th>LandContour</th>\n",
              "      <th>Utilities</th>\n",
              "      <th>LotConfig</th>\n",
              "      <th>LandSlope</th>\n",
              "      <th>Neighborhood</th>\n",
              "      <th>Condition1</th>\n",
              "      <th>Condition2</th>\n",
              "      <th>BldgType</th>\n",
              "      <th>HouseStyle</th>\n",
              "      <th>OverallQual</th>\n",
              "      <th>OverallCond</th>\n",
              "      <th>YearBuilt</th>\n",
              "      <th>YearRemodAdd</th>\n",
              "      <th>RoofStyle</th>\n",
              "      <th>RoofMatl</th>\n",
              "      <th>Exterior1st</th>\n",
              "      <th>Exterior2nd</th>\n",
              "      <th>MasVnrType</th>\n",
              "      <th>MasVnrArea</th>\n",
              "      <th>ExterQual</th>\n",
              "      <th>ExterCond</th>\n",
              "      <th>Foundation</th>\n",
              "      <th>BsmtQual</th>\n",
              "      <th>BsmtCond</th>\n",
              "      <th>BsmtExposure</th>\n",
              "      <th>BsmtFinType1</th>\n",
              "      <th>BsmtFinSF1</th>\n",
              "      <th>BsmtFinType2</th>\n",
              "      <th>BsmtFinSF2</th>\n",
              "      <th>BsmtUnfSF</th>\n",
              "      <th>TotalBsmtSF</th>\n",
              "      <th>Heating</th>\n",
              "      <th>...</th>\n",
              "      <th>CentralAir</th>\n",
              "      <th>Electrical</th>\n",
              "      <th>1stFlrSF</th>\n",
              "      <th>2ndFlrSF</th>\n",
              "      <th>LowQualFinSF</th>\n",
              "      <th>GrLivArea</th>\n",
              "      <th>BsmtFullBath</th>\n",
              "      <th>BsmtHalfBath</th>\n",
              "      <th>FullBath</th>\n",
              "      <th>HalfBath</th>\n",
              "      <th>BedroomAbvGr</th>\n",
              "      <th>KitchenAbvGr</th>\n",
              "      <th>KitchenQual</th>\n",
              "      <th>TotRmsAbvGrd</th>\n",
              "      <th>Functional</th>\n",
              "      <th>Fireplaces</th>\n",
              "      <th>FireplaceQu</th>\n",
              "      <th>GarageType</th>\n",
              "      <th>GarageYrBlt</th>\n",
              "      <th>GarageFinish</th>\n",
              "      <th>GarageCars</th>\n",
              "      <th>GarageArea</th>\n",
              "      <th>GarageQual</th>\n",
              "      <th>GarageCond</th>\n",
              "      <th>PavedDrive</th>\n",
              "      <th>WoodDeckSF</th>\n",
              "      <th>OpenPorchSF</th>\n",
              "      <th>EnclosedPorch</th>\n",
              "      <th>3SsnPorch</th>\n",
              "      <th>ScreenPorch</th>\n",
              "      <th>PoolArea</th>\n",
              "      <th>PoolQC</th>\n",
              "      <th>Fence</th>\n",
              "      <th>MiscFeature</th>\n",
              "      <th>MiscVal</th>\n",
              "      <th>MoSold</th>\n",
              "      <th>YrSold</th>\n",
              "      <th>SaleType</th>\n",
              "      <th>SaleCondition</th>\n",
              "      <th>SalePrice</th>\n",
              "    </tr>\n",
              "  </thead>\n",
              "  <tbody>\n",
              "    <tr>\n",
              "      <th>0</th>\n",
              "      <td>1</td>\n",
              "      <td>60</td>\n",
              "      <td>RL</td>\n",
              "      <td>65.0</td>\n",
              "      <td>8450</td>\n",
              "      <td>Pave</td>\n",
              "      <td>NaN</td>\n",
              "      <td>Reg</td>\n",
              "      <td>Lvl</td>\n",
              "      <td>AllPub</td>\n",
              "      <td>Inside</td>\n",
              "      <td>Gtl</td>\n",
              "      <td>CollgCr</td>\n",
              "      <td>Norm</td>\n",
              "      <td>Norm</td>\n",
              "      <td>1Fam</td>\n",
              "      <td>2Story</td>\n",
              "      <td>7</td>\n",
              "      <td>5</td>\n",
              "      <td>2003</td>\n",
              "      <td>2003</td>\n",
              "      <td>Gable</td>\n",
              "      <td>CompShg</td>\n",
              "      <td>VinylSd</td>\n",
              "      <td>VinylSd</td>\n",
              "      <td>BrkFace</td>\n",
              "      <td>196.0</td>\n",
              "      <td>Gd</td>\n",
              "      <td>TA</td>\n",
              "      <td>PConc</td>\n",
              "      <td>Gd</td>\n",
              "      <td>TA</td>\n",
              "      <td>No</td>\n",
              "      <td>GLQ</td>\n",
              "      <td>706</td>\n",
              "      <td>Unf</td>\n",
              "      <td>0</td>\n",
              "      <td>150</td>\n",
              "      <td>856</td>\n",
              "      <td>GasA</td>\n",
              "      <td>...</td>\n",
              "      <td>Y</td>\n",
              "      <td>SBrkr</td>\n",
              "      <td>856</td>\n",
              "      <td>854</td>\n",
              "      <td>0</td>\n",
              "      <td>1710</td>\n",
              "      <td>1</td>\n",
              "      <td>0</td>\n",
              "      <td>2</td>\n",
              "      <td>1</td>\n",
              "      <td>3</td>\n",
              "      <td>1</td>\n",
              "      <td>Gd</td>\n",
              "      <td>8</td>\n",
              "      <td>Typ</td>\n",
              "      <td>0</td>\n",
              "      <td>NaN</td>\n",
              "      <td>Attchd</td>\n",
              "      <td>2003.0</td>\n",
              "      <td>RFn</td>\n",
              "      <td>2</td>\n",
              "      <td>548</td>\n",
              "      <td>TA</td>\n",
              "      <td>TA</td>\n",
              "      <td>Y</td>\n",
              "      <td>0</td>\n",
              "      <td>61</td>\n",
              "      <td>0</td>\n",
              "      <td>0</td>\n",
              "      <td>0</td>\n",
              "      <td>0</td>\n",
              "      <td>NaN</td>\n",
              "      <td>NaN</td>\n",
              "      <td>NaN</td>\n",
              "      <td>0</td>\n",
              "      <td>2</td>\n",
              "      <td>2008</td>\n",
              "      <td>WD</td>\n",
              "      <td>Normal</td>\n",
              "      <td>208500</td>\n",
              "    </tr>\n",
              "    <tr>\n",
              "      <th>1</th>\n",
              "      <td>2</td>\n",
              "      <td>20</td>\n",
              "      <td>RL</td>\n",
              "      <td>80.0</td>\n",
              "      <td>9600</td>\n",
              "      <td>Pave</td>\n",
              "      <td>NaN</td>\n",
              "      <td>Reg</td>\n",
              "      <td>Lvl</td>\n",
              "      <td>AllPub</td>\n",
              "      <td>FR2</td>\n",
              "      <td>Gtl</td>\n",
              "      <td>Veenker</td>\n",
              "      <td>Feedr</td>\n",
              "      <td>Norm</td>\n",
              "      <td>1Fam</td>\n",
              "      <td>1Story</td>\n",
              "      <td>6</td>\n",
              "      <td>8</td>\n",
              "      <td>1976</td>\n",
              "      <td>1976</td>\n",
              "      <td>Gable</td>\n",
              "      <td>CompShg</td>\n",
              "      <td>MetalSd</td>\n",
              "      <td>MetalSd</td>\n",
              "      <td>None</td>\n",
              "      <td>0.0</td>\n",
              "      <td>TA</td>\n",
              "      <td>TA</td>\n",
              "      <td>CBlock</td>\n",
              "      <td>Gd</td>\n",
              "      <td>TA</td>\n",
              "      <td>Gd</td>\n",
              "      <td>ALQ</td>\n",
              "      <td>978</td>\n",
              "      <td>Unf</td>\n",
              "      <td>0</td>\n",
              "      <td>284</td>\n",
              "      <td>1262</td>\n",
              "      <td>GasA</td>\n",
              "      <td>...</td>\n",
              "      <td>Y</td>\n",
              "      <td>SBrkr</td>\n",
              "      <td>1262</td>\n",
              "      <td>0</td>\n",
              "      <td>0</td>\n",
              "      <td>1262</td>\n",
              "      <td>0</td>\n",
              "      <td>1</td>\n",
              "      <td>2</td>\n",
              "      <td>0</td>\n",
              "      <td>3</td>\n",
              "      <td>1</td>\n",
              "      <td>TA</td>\n",
              "      <td>6</td>\n",
              "      <td>Typ</td>\n",
              "      <td>1</td>\n",
              "      <td>TA</td>\n",
              "      <td>Attchd</td>\n",
              "      <td>1976.0</td>\n",
              "      <td>RFn</td>\n",
              "      <td>2</td>\n",
              "      <td>460</td>\n",
              "      <td>TA</td>\n",
              "      <td>TA</td>\n",
              "      <td>Y</td>\n",
              "      <td>298</td>\n",
              "      <td>0</td>\n",
              "      <td>0</td>\n",
              "      <td>0</td>\n",
              "      <td>0</td>\n",
              "      <td>0</td>\n",
              "      <td>NaN</td>\n",
              "      <td>NaN</td>\n",
              "      <td>NaN</td>\n",
              "      <td>0</td>\n",
              "      <td>5</td>\n",
              "      <td>2007</td>\n",
              "      <td>WD</td>\n",
              "      <td>Normal</td>\n",
              "      <td>181500</td>\n",
              "    </tr>\n",
              "    <tr>\n",
              "      <th>2</th>\n",
              "      <td>3</td>\n",
              "      <td>60</td>\n",
              "      <td>RL</td>\n",
              "      <td>68.0</td>\n",
              "      <td>11250</td>\n",
              "      <td>Pave</td>\n",
              "      <td>NaN</td>\n",
              "      <td>IR1</td>\n",
              "      <td>Lvl</td>\n",
              "      <td>AllPub</td>\n",
              "      <td>Inside</td>\n",
              "      <td>Gtl</td>\n",
              "      <td>CollgCr</td>\n",
              "      <td>Norm</td>\n",
              "      <td>Norm</td>\n",
              "      <td>1Fam</td>\n",
              "      <td>2Story</td>\n",
              "      <td>7</td>\n",
              "      <td>5</td>\n",
              "      <td>2001</td>\n",
              "      <td>2002</td>\n",
              "      <td>Gable</td>\n",
              "      <td>CompShg</td>\n",
              "      <td>VinylSd</td>\n",
              "      <td>VinylSd</td>\n",
              "      <td>BrkFace</td>\n",
              "      <td>162.0</td>\n",
              "      <td>Gd</td>\n",
              "      <td>TA</td>\n",
              "      <td>PConc</td>\n",
              "      <td>Gd</td>\n",
              "      <td>TA</td>\n",
              "      <td>Mn</td>\n",
              "      <td>GLQ</td>\n",
              "      <td>486</td>\n",
              "      <td>Unf</td>\n",
              "      <td>0</td>\n",
              "      <td>434</td>\n",
              "      <td>920</td>\n",
              "      <td>GasA</td>\n",
              "      <td>...</td>\n",
              "      <td>Y</td>\n",
              "      <td>SBrkr</td>\n",
              "      <td>920</td>\n",
              "      <td>866</td>\n",
              "      <td>0</td>\n",
              "      <td>1786</td>\n",
              "      <td>1</td>\n",
              "      <td>0</td>\n",
              "      <td>2</td>\n",
              "      <td>1</td>\n",
              "      <td>3</td>\n",
              "      <td>1</td>\n",
              "      <td>Gd</td>\n",
              "      <td>6</td>\n",
              "      <td>Typ</td>\n",
              "      <td>1</td>\n",
              "      <td>TA</td>\n",
              "      <td>Attchd</td>\n",
              "      <td>2001.0</td>\n",
              "      <td>RFn</td>\n",
              "      <td>2</td>\n",
              "      <td>608</td>\n",
              "      <td>TA</td>\n",
              "      <td>TA</td>\n",
              "      <td>Y</td>\n",
              "      <td>0</td>\n",
              "      <td>42</td>\n",
              "      <td>0</td>\n",
              "      <td>0</td>\n",
              "      <td>0</td>\n",
              "      <td>0</td>\n",
              "      <td>NaN</td>\n",
              "      <td>NaN</td>\n",
              "      <td>NaN</td>\n",
              "      <td>0</td>\n",
              "      <td>9</td>\n",
              "      <td>2008</td>\n",
              "      <td>WD</td>\n",
              "      <td>Normal</td>\n",
              "      <td>223500</td>\n",
              "    </tr>\n",
              "    <tr>\n",
              "      <th>3</th>\n",
              "      <td>4</td>\n",
              "      <td>70</td>\n",
              "      <td>RL</td>\n",
              "      <td>60.0</td>\n",
              "      <td>9550</td>\n",
              "      <td>Pave</td>\n",
              "      <td>NaN</td>\n",
              "      <td>IR1</td>\n",
              "      <td>Lvl</td>\n",
              "      <td>AllPub</td>\n",
              "      <td>Corner</td>\n",
              "      <td>Gtl</td>\n",
              "      <td>Crawfor</td>\n",
              "      <td>Norm</td>\n",
              "      <td>Norm</td>\n",
              "      <td>1Fam</td>\n",
              "      <td>2Story</td>\n",
              "      <td>7</td>\n",
              "      <td>5</td>\n",
              "      <td>1915</td>\n",
              "      <td>1970</td>\n",
              "      <td>Gable</td>\n",
              "      <td>CompShg</td>\n",
              "      <td>Wd Sdng</td>\n",
              "      <td>Wd Shng</td>\n",
              "      <td>None</td>\n",
              "      <td>0.0</td>\n",
              "      <td>TA</td>\n",
              "      <td>TA</td>\n",
              "      <td>BrkTil</td>\n",
              "      <td>TA</td>\n",
              "      <td>Gd</td>\n",
              "      <td>No</td>\n",
              "      <td>ALQ</td>\n",
              "      <td>216</td>\n",
              "      <td>Unf</td>\n",
              "      <td>0</td>\n",
              "      <td>540</td>\n",
              "      <td>756</td>\n",
              "      <td>GasA</td>\n",
              "      <td>...</td>\n",
              "      <td>Y</td>\n",
              "      <td>SBrkr</td>\n",
              "      <td>961</td>\n",
              "      <td>756</td>\n",
              "      <td>0</td>\n",
              "      <td>1717</td>\n",
              "      <td>1</td>\n",
              "      <td>0</td>\n",
              "      <td>1</td>\n",
              "      <td>0</td>\n",
              "      <td>3</td>\n",
              "      <td>1</td>\n",
              "      <td>Gd</td>\n",
              "      <td>7</td>\n",
              "      <td>Typ</td>\n",
              "      <td>1</td>\n",
              "      <td>Gd</td>\n",
              "      <td>Detchd</td>\n",
              "      <td>1998.0</td>\n",
              "      <td>Unf</td>\n",
              "      <td>3</td>\n",
              "      <td>642</td>\n",
              "      <td>TA</td>\n",
              "      <td>TA</td>\n",
              "      <td>Y</td>\n",
              "      <td>0</td>\n",
              "      <td>35</td>\n",
              "      <td>272</td>\n",
              "      <td>0</td>\n",
              "      <td>0</td>\n",
              "      <td>0</td>\n",
              "      <td>NaN</td>\n",
              "      <td>NaN</td>\n",
              "      <td>NaN</td>\n",
              "      <td>0</td>\n",
              "      <td>2</td>\n",
              "      <td>2006</td>\n",
              "      <td>WD</td>\n",
              "      <td>Abnorml</td>\n",
              "      <td>140000</td>\n",
              "    </tr>\n",
              "    <tr>\n",
              "      <th>4</th>\n",
              "      <td>5</td>\n",
              "      <td>60</td>\n",
              "      <td>RL</td>\n",
              "      <td>84.0</td>\n",
              "      <td>14260</td>\n",
              "      <td>Pave</td>\n",
              "      <td>NaN</td>\n",
              "      <td>IR1</td>\n",
              "      <td>Lvl</td>\n",
              "      <td>AllPub</td>\n",
              "      <td>FR2</td>\n",
              "      <td>Gtl</td>\n",
              "      <td>NoRidge</td>\n",
              "      <td>Norm</td>\n",
              "      <td>Norm</td>\n",
              "      <td>1Fam</td>\n",
              "      <td>2Story</td>\n",
              "      <td>8</td>\n",
              "      <td>5</td>\n",
              "      <td>2000</td>\n",
              "      <td>2000</td>\n",
              "      <td>Gable</td>\n",
              "      <td>CompShg</td>\n",
              "      <td>VinylSd</td>\n",
              "      <td>VinylSd</td>\n",
              "      <td>BrkFace</td>\n",
              "      <td>350.0</td>\n",
              "      <td>Gd</td>\n",
              "      <td>TA</td>\n",
              "      <td>PConc</td>\n",
              "      <td>Gd</td>\n",
              "      <td>TA</td>\n",
              "      <td>Av</td>\n",
              "      <td>GLQ</td>\n",
              "      <td>655</td>\n",
              "      <td>Unf</td>\n",
              "      <td>0</td>\n",
              "      <td>490</td>\n",
              "      <td>1145</td>\n",
              "      <td>GasA</td>\n",
              "      <td>...</td>\n",
              "      <td>Y</td>\n",
              "      <td>SBrkr</td>\n",
              "      <td>1145</td>\n",
              "      <td>1053</td>\n",
              "      <td>0</td>\n",
              "      <td>2198</td>\n",
              "      <td>1</td>\n",
              "      <td>0</td>\n",
              "      <td>2</td>\n",
              "      <td>1</td>\n",
              "      <td>4</td>\n",
              "      <td>1</td>\n",
              "      <td>Gd</td>\n",
              "      <td>9</td>\n",
              "      <td>Typ</td>\n",
              "      <td>1</td>\n",
              "      <td>TA</td>\n",
              "      <td>Attchd</td>\n",
              "      <td>2000.0</td>\n",
              "      <td>RFn</td>\n",
              "      <td>3</td>\n",
              "      <td>836</td>\n",
              "      <td>TA</td>\n",
              "      <td>TA</td>\n",
              "      <td>Y</td>\n",
              "      <td>192</td>\n",
              "      <td>84</td>\n",
              "      <td>0</td>\n",
              "      <td>0</td>\n",
              "      <td>0</td>\n",
              "      <td>0</td>\n",
              "      <td>NaN</td>\n",
              "      <td>NaN</td>\n",
              "      <td>NaN</td>\n",
              "      <td>0</td>\n",
              "      <td>12</td>\n",
              "      <td>2008</td>\n",
              "      <td>WD</td>\n",
              "      <td>Normal</td>\n",
              "      <td>250000</td>\n",
              "    </tr>\n",
              "  </tbody>\n",
              "</table>\n",
              "<p>5 rows × 81 columns</p>\n",
              "</div>"
            ],
            "text/plain": [
              "   Id  MSSubClass MSZoning  ...  SaleType  SaleCondition SalePrice\n",
              "0   1          60       RL  ...        WD         Normal    208500\n",
              "1   2          20       RL  ...        WD         Normal    181500\n",
              "2   3          60       RL  ...        WD         Normal    223500\n",
              "3   4          70       RL  ...        WD        Abnorml    140000\n",
              "4   5          60       RL  ...        WD         Normal    250000\n",
              "\n",
              "[5 rows x 81 columns]"
            ]
          },
          "metadata": {
            "tags": []
          },
          "execution_count": 312
        }
      ]
    },
    {
      "cell_type": "code",
      "metadata": {
        "id": "HpFwGta_wQE1",
        "colab_type": "code",
        "colab": {
          "base_uri": "https://localhost:8080/",
          "height": 35
        },
        "outputId": "67449fea-2970-4344-912d-00aad82266d0"
      },
      "source": [
        "\"\"\" Uncomment to check Data Description \"\"\"\n",
        "\n",
        "# print(\"DATA DESCRIPTION\\n\\n\")\n",
        "# with open('../tmp/data_description.txt','r') as f:\n",
        "#   for line in f.readlines():\n",
        "#     print(line)"
      ],
      "execution_count": 313,
      "outputs": [
        {
          "output_type": "execute_result",
          "data": {
            "application/vnd.google.colaboratory.intrinsic+json": {
              "type": "string"
            },
            "text/plain": [
              "' Uncomment to check Data Description '"
            ]
          },
          "metadata": {
            "tags": []
          },
          "execution_count": 313
        }
      ]
    },
    {
      "cell_type": "code",
      "metadata": {
        "id": "C7lzLgmBoAiD",
        "colab_type": "code",
        "colab": {}
      },
      "source": [
        "# Maintaining a copy of the original dataset for resetting in the case of irreversible erronneous changes.\n",
        "# This is fine since this is a small dataset. Not recommended for large datasets.\n",
        "df = dataset.copy()"
      ],
      "execution_count": 314,
      "outputs": []
    },
    {
      "cell_type": "code",
      "metadata": {
        "id": "-XT-Qe-woAiJ",
        "colab_type": "code",
        "colab": {
          "base_uri": "https://localhost:8080/",
          "height": 329
        },
        "outputId": "f50b56d4-7ed2-4c1d-9c9c-662fcec17c80"
      },
      "source": [
        "df.columns"
      ],
      "execution_count": 315,
      "outputs": [
        {
          "output_type": "execute_result",
          "data": {
            "text/plain": [
              "Index(['Id', 'MSSubClass', 'MSZoning', 'LotFrontage', 'LotArea', 'Street',\n",
              "       'Alley', 'LotShape', 'LandContour', 'Utilities', 'LotConfig',\n",
              "       'LandSlope', 'Neighborhood', 'Condition1', 'Condition2', 'BldgType',\n",
              "       'HouseStyle', 'OverallQual', 'OverallCond', 'YearBuilt', 'YearRemodAdd',\n",
              "       'RoofStyle', 'RoofMatl', 'Exterior1st', 'Exterior2nd', 'MasVnrType',\n",
              "       'MasVnrArea', 'ExterQual', 'ExterCond', 'Foundation', 'BsmtQual',\n",
              "       'BsmtCond', 'BsmtExposure', 'BsmtFinType1', 'BsmtFinSF1',\n",
              "       'BsmtFinType2', 'BsmtFinSF2', 'BsmtUnfSF', 'TotalBsmtSF', 'Heating',\n",
              "       'HeatingQC', 'CentralAir', 'Electrical', '1stFlrSF', '2ndFlrSF',\n",
              "       'LowQualFinSF', 'GrLivArea', 'BsmtFullBath', 'BsmtHalfBath', 'FullBath',\n",
              "       'HalfBath', 'BedroomAbvGr', 'KitchenAbvGr', 'KitchenQual',\n",
              "       'TotRmsAbvGrd', 'Functional', 'Fireplaces', 'FireplaceQu', 'GarageType',\n",
              "       'GarageYrBlt', 'GarageFinish', 'GarageCars', 'GarageArea', 'GarageQual',\n",
              "       'GarageCond', 'PavedDrive', 'WoodDeckSF', 'OpenPorchSF',\n",
              "       'EnclosedPorch', '3SsnPorch', 'ScreenPorch', 'PoolArea', 'PoolQC',\n",
              "       'Fence', 'MiscFeature', 'MiscVal', 'MoSold', 'YrSold', 'SaleType',\n",
              "       'SaleCondition', 'SalePrice'],\n",
              "      dtype='object')"
            ]
          },
          "metadata": {
            "tags": []
          },
          "execution_count": 315
        }
      ]
    },
    {
      "cell_type": "code",
      "metadata": {
        "id": "q0FD5OcxoAiQ",
        "colab_type": "code",
        "colab": {}
      },
      "source": [
        "def onehot_enc(data,col):\n",
        "    \"\"\"\n",
        "        Function to generate one-hot representation of a column. \n",
        "\n",
        "        INPUT : Takes in a pandas DataFrame and a column name.\n",
        "        OUTPUT : Returns the DataFrame with one_hot_vectors after adjusting for dummy variable trap.\n",
        "\n",
        "        NOTE : This function replaces the original column with dummy vectors.\n",
        "    \"\"\"\n",
        "    if col not in data.columns: \n",
        "      print('Please check column name');\n",
        "      return data\n",
        "    # drop_first = True to escape the dummy variable trap\n",
        "    dummy_df = pd.get_dummies(data[col],prefix=col,drop_first=True)\n",
        "    # Setting column names for the one-hot vectors ...\n",
        "    dummy_df.columns = [elem.rstrip().split(' ')[0] for elem in dummy_df.columns]\n",
        "    # Modifying the dataset and removing original column ...\n",
        "    data = pd.concat([data.drop(col, axis=1),dummy_df],axis=1)\n",
        "    return data"
      ],
      "execution_count": 316,
      "outputs": []
    },
    {
      "cell_type": "code",
      "metadata": {
        "id": "wE9q2IHNZ6zs",
        "colab_type": "code",
        "colab": {}
      },
      "source": [
        "def label_enc(data,col):\n",
        "  \"\"\"\n",
        "     Function to label encode the required column.\n",
        "\n",
        "     INPUT : Takes in a pandas DataFrame and a column name.\n",
        "     OUTPUT : Returns the DataFrame with the label encoded column\n",
        "     \n",
        "     NOTE : This function replaces the original column with labels.\n",
        "  \"\"\"\n",
        "  if col not in data.columns: \n",
        "      print('Please check column name');\n",
        "      return data\n",
        "  if col in ['Alley','Street']:\n",
        "    data[col] = data[col].map({'Grvl':1,'Pave':2,'None':0})\n",
        "  elif col == 'LotShape':\n",
        "    data[col] = data[col].map({'Reg':3,'IR1':2,'IR2':1,'IR3':0})\n",
        "  elif col == 'LandContour':\n",
        "    data[col] = data[col].map({'Lvl':3,'Bnk':2,'HLS':1,'Low':0})\n",
        "  elif col == 'Utilities':\n",
        "    data[col] = data[col].map({'AllPub':3,'NoSewr':2,'NoSeWa':1,'ELO':0})\n",
        "  elif col == 'LotConfig':\n",
        "    data[col] = data[col].map({'Inside':4,'Corner':3,'CulDSac':2,'FR2':1,'FR3':0})\n",
        "  elif col == 'LandSlope':\n",
        "    data[col] = data[col].map({'Gtl':2,'Mod':1,'Sev':0})\n",
        "  elif col == 'Functional':\n",
        "    data[col] = data[col].map({'Typ':7,'Min1':6,'Min2':5,'Mod':4,'Maj1':3,'Maj2':2,'Sev':1,'Sal':0})\n",
        "  elif col == 'GarageType':\n",
        "    data[col] = data[col].map({'2Types':5,'Attchd':3,'Basment':3,'BuiltIn':3,'CarPort':2,'Detchd':1,'None':0})\n",
        "  elif col == 'GarageFinish':\n",
        "    data[col] = data[col].map({'Fin':3,'RFn':2,'Unf':1,'None':0})\n",
        "  elif col == 'Fence':\n",
        "      data[col] = data[col].map({'GdPrv':4,'MnPrv':2,'GdWo':3,'MnWw':1,'None':0})\n",
        "  elif col in ['ExterQual','ExterCond','BsmtQual','BsmtCond','KitchenQual','FireplaceQu','GarageQual','GarageCond','HeatingQC','PoolQC']:\n",
        "    data[col] = data[col].map({'Ex':5,'Gd':4,'TA':3,'Fa':2,'Po':1,'None':0})\n",
        "  elif col in ['CentralAir','PavedDrive']:\n",
        "    data[col] = data[col].map({'N':0,'P':1,'Y':2})\n",
        "  elif col == 'BsmtExposure':\n",
        "    data[col] = data[col].map({'Gd':4,'Av':3,'Mn':2,'No':1,'None':0})\n",
        "  elif col in ['BsmtFinType1','BsmtFinType2']:\n",
        "    data[col] = data[col].map({'GLQ':6,'ALQ':5,'BLQ':4,'Rec':3,'LwQ':2,'Unf':1,'None':0})\n",
        "  return data"
      ],
      "execution_count": 317,
      "outputs": []
    },
    {
      "cell_type": "code",
      "metadata": {
        "id": "qfDTmfv1oAil",
        "colab_type": "code",
        "colab": {}
      },
      "source": [
        "# To identify which columns are numerical, string and contain nan's.\n",
        "# This helps tremendously during data preprocessing.\n",
        "\n",
        "numeric_cols = []\n",
        "numeric_nan_cols=[]\n",
        "string_cols = []\n",
        "for col in df.columns:\n",
        "    if pd.api.types.is_numeric_dtype(df[col]):\n",
        "        numeric_cols.append(col)\n",
        "        if sum(np.multiply(df[col].isnull(),1)):\n",
        "            numeric_nan_cols.append(col)\n",
        "    if pd.api.types.is_string_dtype(df[col]):\n",
        "        string_cols.append(col)\n",
        "        df[col].fillna('None',inplace=True)"
      ],
      "execution_count": 318,
      "outputs": []
    },
    {
      "cell_type": "code",
      "metadata": {
        "id": "j2AaUZW9oAir",
        "colab_type": "code",
        "colab": {
          "base_uri": "https://localhost:8080/",
          "height": 35
        },
        "outputId": "a13145cb-a1bd-4072-c01f-67cc73336dda"
      },
      "source": [
        "# Printing out the columns with NaN values ...\n",
        "numeric_nan_cols"
      ],
      "execution_count": 319,
      "outputs": [
        {
          "output_type": "execute_result",
          "data": {
            "text/plain": [
              "['LotFrontage', 'MasVnrArea', 'GarageYrBlt']"
            ]
          },
          "metadata": {
            "tags": []
          },
          "execution_count": 319
        }
      ]
    },
    {
      "cell_type": "code",
      "metadata": {
        "id": "2tGIY8mvoAi1",
        "colab_type": "code",
        "colab": {}
      },
      "source": [
        "# Replacing the NaNs with suitable values ...\n",
        "df['LotFrontage'].fillna(0,inplace=True)\n",
        "df['LotFrontage'] = df['LotFrontage'].astype('int')\n",
        "df['MasVnrArea'].fillna(0,inplace=True)\n",
        "df['MasVnrArea'] = df['MasVnrArea'].astype('int')\n",
        "df['GarageYrBlt'].fillna(1900.0,inplace=True)\n",
        "df['GarageYrBlt'] = df['GarageYrBlt'].astype('int')"
      ],
      "execution_count": 320,
      "outputs": []
    },
    {
      "cell_type": "code",
      "metadata": {
        "id": "M1tm0rHH58ZL",
        "colab_type": "code",
        "colab": {}
      },
      "source": [
        "#df.drop(['LowQualFinSF','MiscFeature'],axis=1,inplace=True)"
      ],
      "execution_count": 141,
      "outputs": []
    },
    {
      "cell_type": "code",
      "metadata": {
        "id": "mRoCcT0WU2dJ",
        "colab_type": "code",
        "colab": {}
      },
      "source": [
        "# Storing the columns to be encoded ...\n",
        "label_enc_cols = ['Street','Alley','LotShape','LandContour','Utilities','LotConfig','LandSlope','ExterQual','ExterCond','BsmtQual','BsmtCond','BsmtExposure','BsmtFinType1',\n",
        "                  'BsmtFinType2','HeatingQC','CentralAir','Functional','KitchenQual','FireplaceQu','GarageFinish','GarageQual',\n",
        "                  'GarageCond','PavedDrive','PoolQC','Fence']\n",
        "one_hot_cols = [col for col in np.setdiff1d(string_cols,label_enc_cols)]"
      ],
      "execution_count": 321,
      "outputs": []
    },
    {
      "cell_type": "code",
      "metadata": {
        "id": "1a-JVwHOoAjC",
        "colab_type": "code",
        "colab": {}
      },
      "source": [
        "# Encoding the required columns\n",
        "for col in label_enc_cols:\n",
        "    df = label_enc(df,col)\n",
        "for col in one_hot_cols:\n",
        "    df = onehot_enc(df,col)"
      ],
      "execution_count": 322,
      "outputs": []
    },
    {
      "cell_type": "code",
      "metadata": {
        "id": "5W9lbOFOoAjH",
        "colab_type": "code",
        "colab": {
          "base_uri": "https://localhost:8080/",
          "height": 52
        },
        "outputId": "5a918111-9f5e-4ad1-b27d-e84f4de24e67"
      },
      "source": [
        "print(\"Number of features before preprocessing : \",len(dataset.columns),\"\\nNumber of features after preprocessing : \",len(df.columns))"
      ],
      "execution_count": 324,
      "outputs": [
        {
          "output_type": "stream",
          "text": [
            "Number of features before preprocessing :  81 \n",
            "Number of features after preprocessing :  199\n"
          ],
          "name": "stdout"
        }
      ]
    },
    {
      "cell_type": "code",
      "metadata": {
        "id": "gVJv36--oAjL",
        "colab_type": "code",
        "colab": {}
      },
      "source": [
        "# Checking if all data types in final preprocessed dataset is numeric or not\n",
        "\n",
        "for i,typ in enumerate(df.dtypes):\n",
        "    if typ not in ['int64','uint8']:\n",
        "      print(typ,df.columns[i])"
      ],
      "execution_count": 325,
      "outputs": []
    },
    {
      "cell_type": "code",
      "metadata": {
        "id": "yuAZ37c0MKa0",
        "colab_type": "code",
        "colab": {}
      },
      "source": [
        "def rem_Redundant_Features(data):\n",
        "    cor_mat = df.corr().abs()\n",
        "    upper_tri = cor_mat.where(np.triu(np.ones(cor_mat.shape),k=1).astype(np.bool))\n",
        "    to_drop = [col for col in upper_tri.columns if any(upper_tri[col] > 0.95)]\n",
        "    print(\"Dropping redundant features : \\n\")\n",
        "    for col in to_drop:\n",
        "      print(col)\n",
        "    df.drop(to_drop, axis=1, inplace=True)\n",
        "    return df"
      ],
      "execution_count": 326,
      "outputs": []
    },
    {
      "cell_type": "code",
      "metadata": {
        "id": "a_QOTeaKJ1eV",
        "colab_type": "code",
        "colab": {
          "base_uri": "https://localhost:8080/",
          "height": 208
        },
        "outputId": "4900525d-714b-4921-8731-a96a89d24122"
      },
      "source": [
        "#df = rem_Redundant_Features(df)"
      ],
      "execution_count": 290,
      "outputs": [
        {
          "output_type": "stream",
          "text": [
            "Dropping redundant features : \n",
            "\n",
            "GarageCond\n",
            "Exterior2nd_CBlock\n",
            "Exterior2nd_CmentBd\n",
            "Exterior2nd_MetalSd\n",
            "Exterior2nd_VinylSd\n",
            "Exterior2nd_Wd\n",
            "Exterior2nd_Wd\n",
            "MiscFeature_Shed\n",
            "SaleType_New\n"
          ],
          "name": "stdout"
        }
      ]
    },
    {
      "cell_type": "code",
      "metadata": {
        "id": "nAgTmtjhoAjT",
        "colab_type": "code",
        "colab": {}
      },
      "source": [
        "y = df['SalePrice'].values\n",
        "df = df.drop(columns=['SalePrice'],axis=1)\n",
        "X = df.iloc[:,1:].values"
      ],
      "execution_count": 327,
      "outputs": []
    },
    {
      "cell_type": "code",
      "metadata": {
        "id": "3fOiwaZPoAjZ",
        "colab_type": "code",
        "colab": {
          "base_uri": "https://localhost:8080/",
          "height": 35
        },
        "outputId": "1a55ef5f-deb6-460f-a2f1-eb9eba151062"
      },
      "source": [
        "y.shape"
      ],
      "execution_count": 328,
      "outputs": [
        {
          "output_type": "execute_result",
          "data": {
            "text/plain": [
              "(1460,)"
            ]
          },
          "metadata": {
            "tags": []
          },
          "execution_count": 328
        }
      ]
    },
    {
      "cell_type": "code",
      "metadata": {
        "id": "p1jdzb7XoAjh",
        "colab_type": "code",
        "colab": {
          "base_uri": "https://localhost:8080/",
          "height": 35
        },
        "outputId": "e24d0a1b-a7b4-4f67-a647-a509398e580a"
      },
      "source": [
        "X.shape"
      ],
      "execution_count": 329,
      "outputs": [
        {
          "output_type": "execute_result",
          "data": {
            "text/plain": [
              "(1460, 197)"
            ]
          },
          "metadata": {
            "tags": []
          },
          "execution_count": 329
        }
      ]
    },
    {
      "cell_type": "code",
      "metadata": {
        "id": "pL9TlU2ooAjm",
        "colab_type": "code",
        "colab": {}
      },
      "source": [
        "# Splitting the dataset into the Training set and Test set\n",
        "from sklearn.model_selection import train_test_split\n",
        "X_train, X_test, y_train, y_test = train_test_split(X, y, test_size = 0.1, random_state = 0)\n",
        "\n",
        "# Feature Scaling\n",
        "from sklearn.preprocessing import MinMaxScaler\n",
        "sc_X = MinMaxScaler(feature_range=(0, 1))\n",
        "X_train = sc_X.fit_transform(X_train)\n",
        "X_test = sc_X.transform(X_test)\n",
        "sc_y = MinMaxScaler(feature_range=(0, 1))\n",
        "y_train = sc_y.fit_transform(y_train.reshape(-1,1))"
      ],
      "execution_count": 330,
      "outputs": []
    },
    {
      "cell_type": "code",
      "metadata": {
        "id": "l39EelDSoAjp",
        "colab_type": "code",
        "colab": {
          "base_uri": "https://localhost:8080/",
          "height": 35
        },
        "outputId": "5f060e9b-8e9c-40f2-8faf-afb58e70e7d2"
      },
      "source": [
        "X_train.shape"
      ],
      "execution_count": 331,
      "outputs": [
        {
          "output_type": "execute_result",
          "data": {
            "text/plain": [
              "(1314, 197)"
            ]
          },
          "metadata": {
            "tags": []
          },
          "execution_count": 331
        }
      ]
    },
    {
      "cell_type": "code",
      "metadata": {
        "id": "xqdj37HcoAju",
        "colab_type": "code",
        "colab": {
          "base_uri": "https://localhost:8080/",
          "height": 35
        },
        "outputId": "181141ad-8638-4f1e-cc3e-57723c9c0086"
      },
      "source": [
        "y_train.shape"
      ],
      "execution_count": 332,
      "outputs": [
        {
          "output_type": "execute_result",
          "data": {
            "text/plain": [
              "(1314, 1)"
            ]
          },
          "metadata": {
            "tags": []
          },
          "execution_count": 332
        }
      ]
    },
    {
      "cell_type": "code",
      "metadata": {
        "id": "3uKjjggooAjy",
        "colab_type": "code",
        "colab": {}
      },
      "source": [
        "def Evaluate(regressor,regr_name):\n",
        "    # Predicting the Test set results\n",
        "    y_pred = regressor.predict(X_test)\n",
        "    y_pred = sc_y.inverse_transform(y_pred.reshape(-1,1))\n",
        "    \n",
        "    from sklearn.metrics import mean_squared_error,r2_score\n",
        "    print(\"The RMSE of the \"+regr_name+\" model is : \",np.sqrt(mean_squared_error(y_test,y_pred)))\n",
        "    print(\"The R2 Score of the \"+regr_name+\" model is : \",r2_score(y_test,y_pred))"
      ],
      "execution_count": 333,
      "outputs": []
    },
    {
      "cell_type": "markdown",
      "metadata": {
        "id": "IdwZXzMzoAj6",
        "colab_type": "text"
      },
      "source": [
        "## LINEAR REGRESSION"
      ]
    },
    {
      "cell_type": "code",
      "metadata": {
        "id": "jcolUL7toAj7",
        "colab_type": "code",
        "colab": {
          "base_uri": "https://localhost:8080/",
          "height": 52
        },
        "outputId": "ef0ed805-d526-4153-f12c-89b0d4c58cfb"
      },
      "source": [
        "# Fitting Multiple Linear Regression to the Training set\n",
        "from sklearn.linear_model import LinearRegression\n",
        "regressor_lm = LinearRegression().fit(X_train, y_train)\n",
        "\n",
        "Evaluate(regressor_lm,\"Linear Regression\")"
      ],
      "execution_count": 334,
      "outputs": [
        {
          "output_type": "stream",
          "text": [
            "The RMSE of the Linear Regression model is :  83273663783367.38\n",
            "The R2 Score of the Linear Regression model is :  -1.0090783973570217e+18\n"
          ],
          "name": "stdout"
        }
      ]
    },
    {
      "cell_type": "markdown",
      "metadata": {
        "id": "LRZLEBIboAj_",
        "colab_type": "text"
      },
      "source": [
        "## DECISION TREE REGRESSION"
      ]
    },
    {
      "cell_type": "code",
      "metadata": {
        "id": "oeE_tEPqoAj_",
        "colab_type": "code",
        "colab": {
          "base_uri": "https://localhost:8080/",
          "height": 52
        },
        "outputId": "5baaa2fd-2a04-4281-cdf6-c1af2a1475a1"
      },
      "source": [
        "# Fitting Decision Tree Regression to the dataset\n",
        "from sklearn.tree import DecisionTreeRegressor\n",
        "dt_regressor = DecisionTreeRegressor(random_state = 42).fit(X_train, y_train)\n",
        "\n",
        "Evaluate(dt_regressor,\"Decision Tree Regression\")"
      ],
      "execution_count": 335,
      "outputs": [
        {
          "output_type": "stream",
          "text": [
            "The RMSE of the Decision Tree Regression model is :  48002.23014534189\n",
            "The R2 Score of the Decision Tree Regression model is :  0.6647008958940683\n"
          ],
          "name": "stdout"
        }
      ]
    },
    {
      "cell_type": "markdown",
      "metadata": {
        "id": "yjm3XPxXoAkD",
        "colab_type": "text"
      },
      "source": [
        "## RANDOM FOREST REGRESSION"
      ]
    },
    {
      "cell_type": "code",
      "metadata": {
        "id": "A4nW2HMToAkE",
        "colab_type": "code",
        "colab": {
          "base_uri": "https://localhost:8080/",
          "height": 52
        },
        "outputId": "e8399959-2898-4858-d055-6806f711c4f3"
      },
      "source": [
        "# Fitting Random Forest Regression to the dataset\n",
        "from sklearn.ensemble import RandomForestRegressor\n",
        "rf_regressor = RandomForestRegressor(n_estimators = 15, random_state = 52).fit(X_train, y_train.ravel())\n",
        "\n",
        "Evaluate(rf_regressor,\"Random Forest Regression\")"
      ],
      "execution_count": 336,
      "outputs": [
        {
          "output_type": "stream",
          "text": [
            "The RMSE of the Random Forest Regression model is :  28774.221004089297\n",
            "The R2 Score of the Random Forest Regression model is :  0.8795195133002778\n"
          ],
          "name": "stdout"
        }
      ]
    },
    {
      "cell_type": "markdown",
      "metadata": {
        "id": "MhnoJnQ2oAkJ",
        "colab_type": "text"
      },
      "source": [
        "## SUPPORT VECTOR REGRESION"
      ]
    },
    {
      "cell_type": "code",
      "metadata": {
        "id": "0g4Rv0G6oAkK",
        "colab_type": "code",
        "colab": {
          "base_uri": "https://localhost:8080/",
          "height": 52
        },
        "outputId": "cb4c5337-5116-4e7f-bc93-4968f5dac669"
      },
      "source": [
        "# Fitting SVR to the dataset\n",
        "from sklearn.svm import SVR\n",
        "svm_regressor = SVR(kernel = 'rbf').fit(X_train, y_train.ravel())\n",
        "\n",
        "Evaluate(svm_regressor,\"Support Vector Regression\")"
      ],
      "execution_count": 337,
      "outputs": [
        {
          "output_type": "stream",
          "text": [
            "The RMSE of the Support Vector Regression model is :  47935.96774981091\n",
            "The R2 Score of the Support Vector Regression model is :  0.6656259523796322\n"
          ],
          "name": "stdout"
        }
      ]
    },
    {
      "cell_type": "markdown",
      "metadata": {
        "id": "nEUakcfcoAkO",
        "colab_type": "text"
      },
      "source": [
        "## HUBER REGRESSION"
      ]
    },
    {
      "cell_type": "code",
      "metadata": {
        "id": "UN5BzoGOoAkP",
        "colab_type": "code",
        "colab": {
          "base_uri": "https://localhost:8080/",
          "height": 52
        },
        "outputId": "66866fbb-c70c-4c46-d793-f2bf248cdb53"
      },
      "source": [
        "import warnings\n",
        "warnings.filterwarnings(\"ignore\")\n",
        "\n",
        "# Fitting Huber Regression to dataset\n",
        "\n",
        "from sklearn.linear_model import HuberRegressor\n",
        "hb_regressor = HuberRegressor(max_iter=200).fit(X_train,y_train.ravel())\n",
        "\n",
        "Evaluate(hb_regressor,\"Huber Regression\")"
      ],
      "execution_count": 339,
      "outputs": [
        {
          "output_type": "stream",
          "text": [
            "The RMSE of the Huber Regression model is :  32409.807342745058\n",
            "The R2 Score of the Huber Regression model is :  0.84715104910501\n"
          ],
          "name": "stdout"
        }
      ]
    },
    {
      "cell_type": "markdown",
      "metadata": {
        "id": "-wlqZtvXoAka",
        "colab_type": "text"
      },
      "source": [
        "## ADAPTIVE BOOSTING"
      ]
    },
    {
      "cell_type": "code",
      "metadata": {
        "id": "6u89Srs-oAkb",
        "colab_type": "code",
        "colab": {
          "base_uri": "https://localhost:8080/",
          "height": 52
        },
        "outputId": "3e0db779-40aa-4063-aa0b-0e0f342a8395"
      },
      "source": [
        "from sklearn.ensemble import AdaBoostRegressor\n",
        "adb_regressor = AdaBoostRegressor().fit(X_train,y_train.ravel())\n",
        "\n",
        "Evaluate(adb_regressor,\"Adaboost Regression\")"
      ],
      "execution_count": 340,
      "outputs": [
        {
          "output_type": "stream",
          "text": [
            "The RMSE of the Adaboost Regression model is :  38896.28857257875\n",
            "The R2 Score of the Adaboost Regression model is :  0.7798463498334485\n"
          ],
          "name": "stdout"
        }
      ]
    },
    {
      "cell_type": "markdown",
      "metadata": {
        "id": "rCFdMYiPoAkf",
        "colab_type": "text"
      },
      "source": [
        "## XGBOOSTING"
      ]
    },
    {
      "cell_type": "code",
      "metadata": {
        "id": "588JhGZPoAkg",
        "colab_type": "code",
        "colab": {
          "base_uri": "https://localhost:8080/",
          "height": 52
        },
        "outputId": "ad2a74bb-3fb5-46cb-ecee-0ff73fc6aae4"
      },
      "source": [
        "import xgboost as xgb\n",
        "xg_reg = xgb.XGBRegressor(objective='reg:squarederror',n_estimators=1000).fit(X_train,y_train)\n",
        "\n",
        "Evaluate(xg_reg,\"XGBoost Regression\")"
      ],
      "execution_count": 341,
      "outputs": [
        {
          "output_type": "stream",
          "text": [
            "The RMSE of the XGBoost Regression model is :  32990.08470108905\n",
            "The R2 Score of the XGBoost Regression model is :  0.8416287208249675\n"
          ],
          "name": "stdout"
        }
      ]
    },
    {
      "cell_type": "markdown",
      "metadata": {
        "colab_type": "text",
        "id": "uw9wSFaXDtQP"
      },
      "source": [
        "## DEEP NEURAL NETWORK"
      ]
    },
    {
      "cell_type": "code",
      "metadata": {
        "id": "R4EWw3__oAkj",
        "colab_type": "code",
        "colab": {}
      },
      "source": [
        "from tensorflow.keras.models import Model\n",
        "from tensorflow.keras.layers import Dense, Input, Dropout"
      ],
      "execution_count": 342,
      "outputs": []
    },
    {
      "cell_type": "code",
      "metadata": {
        "id": "iauiaCqSoAko",
        "colab_type": "code",
        "colab": {}
      },
      "source": [
        "# Get input shapes\n",
        "N, D = X_train.shape"
      ],
      "execution_count": 343,
      "outputs": []
    },
    {
      "cell_type": "code",
      "metadata": {
        "id": "06fRZS0xoAkr",
        "colab_type": "code",
        "colab": {
          "base_uri": "https://localhost:8080/",
          "height": 35
        },
        "outputId": "f61c0772-e6b4-46f5-b85d-b6ca20a0add8"
      },
      "source": [
        "N,D"
      ],
      "execution_count": 344,
      "outputs": [
        {
          "output_type": "execute_result",
          "data": {
            "text/plain": [
              "(1314, 197)"
            ]
          },
          "metadata": {
            "tags": []
          },
          "execution_count": 344
        }
      ]
    },
    {
      "cell_type": "code",
      "metadata": {
        "colab_type": "code",
        "id": "IQFcLvphFAuj",
        "colab": {
          "base_uri": "https://localhost:8080/",
          "height": 52
        },
        "outputId": "449dd57a-1e4b-4cf4-86c3-ade8de1d8ddb"
      },
      "source": [
        "I = Input(shape=(D,))\n",
        "x = Dense(D, activation='relu')(I)\n",
        "x = Dense(D, activation='relu')(x)\n",
        "x = Dropout(0.3,seed=42)(x)\n",
        "x = Dense(1, activation='sigmoid')(x)\n",
        "model = Model(inputs=I, outputs=x)\n",
        "\n",
        "model.compile(loss='mse',optimizer='adam',)\n",
        "\n",
        "r = model.fit(X_train, y_train, epochs=40,verbose=0)\n",
        "Evaluate(model,\"Deep Neural Network\")"
      ],
      "execution_count": 354,
      "outputs": [
        {
          "output_type": "stream",
          "text": [
            "The RMSE of the Deep Neural Network model is :  32681.64769257582\n",
            "The R2 Score of the Deep Neural Network model is :  0.8445762256089361\n"
          ],
          "name": "stdout"
        }
      ]
    },
    {
      "cell_type": "code",
      "metadata": {
        "id": "XtLGtkibIQcc",
        "colab_type": "code",
        "colab": {}
      },
      "source": [
        ""
      ],
      "execution_count": 345,
      "outputs": []
    }
  ]
}
